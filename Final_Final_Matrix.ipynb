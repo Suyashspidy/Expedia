{
 "cells": [
  {
   "cell_type": "code",
   "execution_count": 27,
   "id": "0420b7d9-b671-4fbc-8bbb-fbc8f9cd2558",
   "metadata": {},
   "outputs": [
    {
     "name": "stdout",
     "output_type": "stream",
     "text": [
      "               precision    recall  f1-score   support\n",
      "\n",
      "       Africa       0.00      0.00      0.00        13\n",
      "         Asia       0.25      0.25      0.25       102\n",
      "    Australia       0.07      0.22      0.11         9\n",
      "       Europe       0.65      0.48      0.56       477\n",
      "North America       0.75      0.78      0.77       741\n",
      "South America       0.15      0.41      0.22        32\n",
      "\n",
      "     accuracy                           0.62      1374\n",
      "    macro avg       0.31      0.36      0.32      1374\n",
      " weighted avg       0.66      0.62      0.63      1374\n",
      "\n"
     ]
    },
    {
     "data": {
      "text/plain": [
       "array([0.54803493, 0.59170306, 0.61202186, 0.61748634, 0.61748634])"
      ]
     },
     "execution_count": 27,
     "metadata": {},
     "output_type": "execute_result"
    },
    {
     "data": {
      "image/png": "[encoded data removed]",
      "text/plain": [
       "<Figure size 432x288 with 2 Axes>"
      ]
     },
     "metadata": {
      "needs_background": "light"
     },
     "output_type": "display_data"
    }
   ],
   "source": [
    "import numpy as np\n",
    "import pandas as pd\n",
    "import matplotlib.pyplot as plt\n",
    "from sklearn.model_selection import train_test_split\n",
    "from sklearn.linear_model import LogisticRegression\n",
    "from sklearn.metrics import classification_report, confusion_matrix\n",
    "from sklearn.neighbors import KNeighborsClassifier\n",
    "from sklearn.metrics._plot.confusion_matrix import confusion_matrix\n",
    "from sklearn.metrics import ConfusionMatrixDisplay\n",
    "from sklearn import metrics\n",
    "from sklearn.model_selection import cross_val_score\n",
    "\n",
    "\n",
    "df = pd.read_csv(\"Final_Final_Matrix.csv\",  encoding=\"ISO-8859-1\")\n",
    "X = df.iloc[:, 7:14] # Independent Variables\n",
    "y = df.iloc[:,6] # Dependent Variable\n",
    "\n",
    "X_train, X_test, y_train, y_test = train_test_split(X, y, test_size=0.3, random_state=206)\n",
    "\n",
    "# instantiate the model (using the default parameters)\n",
    "logreg = LogisticRegression(max_iter=5000,random_state=206)\n",
    "\n",
    "# fit the model with data\n",
    "logreg.fit(X_train, y_train)\n",
    "\n",
    "y_pred = logreg.predict(X_test)\n",
    "\n",
    "model = KNeighborsClassifier()\n",
    "# fit the model to the training data\n",
    "model.fit(X_train, y_train)\n",
    "\n",
    "model.predict(X_test)\n",
    "\n",
    "np.mean(model.predict(X_test) == y_test) \n",
    "\n",
    "model.score(X_test, y_test)\n",
    "\n",
    "cnf_matrix = metrics.confusion_matrix(y_test, y_pred)\n",
    "cnf_matrix = pd.DataFrame(cnf_matrix,\n",
    "                     index = ['Africa', 'Asia','Australia', 'Europe', 'North America', 'South America'],\n",
    "                     columns = ['Africa', 'Asia','Australia', 'Europe', 'North America', 'South America'])\n",
    "cnf_matrix\n",
    "\n",
    "ConfusionMatrixDisplay(cm).plot()\n",
    "\n",
    "print(metrics.classification_report(model.predict(X_test), y_test))\n",
    "\n"
   ]
  },
  {
   "cell_type": "code",
   "execution_count": 39,
   "id": "d4aef67d-4b15-4223-9a57-d2af8faf80ae",
   "metadata": {},
   "outputs": [
    {
     "name": "stdout",
     "output_type": "stream",
     "text": [
      "Accuracy: 0.6035202385047588 (+/- 0.04470244835493288)\n"
     ]
    }
   ],
   "source": [
    "model2 = KNeighborsClassifier()\n",
    "scores = cross_val_score(model2, X, y, cv = 30)\n",
    "scores\n",
    "\n",
    "print(f\"Accuracy: {scores.mean()} (+/- {scores.std()})\")\n",
    "\n"
   ]
  },
  {
   "cell_type": "code",
   "execution_count": 59,
   "id": "aabb8504-7c36-4ca4-9f3e-0fa3b8de6523",
   "metadata": {},
   "outputs": [
    {
     "name": "stdout",
     "output_type": "stream",
     "text": [
      "0.0997503404665031\n"
     ]
    }
   ],
   "source": [
    "from sklearn.svm import SVR\n",
    "# create an estimator of a SVR model\n",
    "model_svr = SVR()\n",
    "# fit the model to the data\n",
    "model_svr.fit(X, y)\n",
    "print(model_svr.score(X, y))"
   ]
  },
  {
   "cell_type": "code",
   "execution_count": null,
   "id": "1d7198e4-c10a-4d10-a10d-37f80951ba48",
   "metadata": {},
   "outputs": [],
   "source": []
  }
 ],
 "metadata": {
  "kernelspec": {
   "display_name": "Python 3 (ipykernel)",
   "language": "python",
   "name": "python3"
  },
  "language_info": {
   "codemirror_mode": {
    "name": "ipython",
    "version": 3
   },
   "file_extension": ".py",
   "mimetype": "text/x-python",
   "name": "python",
   "nbconvert_exporter": "python",
   "pygments_lexer": "ipython3",
   "version": "3.9.7"
  }
 },
 "nbformat": 4,
 "nbformat_minor": 5
}
